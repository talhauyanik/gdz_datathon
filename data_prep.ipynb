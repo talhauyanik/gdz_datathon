{
 "cells": [
  {
   "cell_type": "code",
   "execution_count": 1,
   "metadata": {},
   "outputs": [],
   "source": [
    "import pandas as pd \n",
    "import numpy as np\n",
    "import matplotlib.pyplot as plt\n",
    "import seaborn as sns\n",
    "from unidecode import unidecode\n",
    "from sklearn.preprocessing import RobustScaler\n",
    "from xgboost import XGBRegressor\n",
    "from sklearn.model_selection import train_test_split\n",
    "from sklearn.metrics import mean_squared_error\n",
    "import joblib"
   ]
  },
  {
   "cell_type": "code",
   "execution_count": 2,
   "metadata": {},
   "outputs": [],
   "source": [
    "train = pd.read_csv(\"datasets/test.csv\")\n",
    "sub = pd.read_csv(\"datasets/submission.csv\")"
   ]
  },
  {
   "cell_type": "code",
   "execution_count": 3,
   "metadata": {},
   "outputs": [],
   "source": [
    "izmir_ilce = pd.read_html('https://www.nufusu.com/ilceleri/izmir-ilceleri-nufusu')[0]\n",
    "manisa_ilce = pd.read_html('http://www.manisa.gov.tr/nufus-ve-dagilim')[0].iloc[:-1,:]\n",
    "izmir_ilce=izmir_ilce[['İlçe','Toplam Nüfus']].rename(columns={'İlçe':'İLÇE','Toplam Nüfus':'ilce_nufus'})\n",
    "manisa_ilce=manisa_ilce[['İlçe','İlçe Nüfusu']].rename(columns={'İlçe':'İLÇE','İlçe Nüfusu':'ilce_nufus'})\n",
    "ilce_nufus=pd.concat([izmir_ilce,manisa_ilce])\n",
    "ilce_nufus['İLÇE']=ilce_nufus['İLÇE'].apply(unidecode).str.lower()\n",
    "\n",
    "train['İL'] = train['İL'].apply(unidecode).str.lower()\n",
    "train['İLÇE'] = train['İLÇE'].apply(unidecode).str.lower()\n",
    "\n",
    "train=pd.merge(train,ilce_nufus,on=['İLÇE'],how='left')"
   ]
  },
  {
   "cell_type": "code",
   "execution_count": 4,
   "metadata": {},
   "outputs": [],
   "source": [
    "train[\"ilce_nufus\"] = train[\"ilce_nufus\"].astype(float)"
   ]
  },
  {
   "cell_type": "code",
   "execution_count": 5,
   "metadata": {},
   "outputs": [],
   "source": [
    "train[\"BAŞLAMA_TARİHİ_VE_ZAMANI\"] = pd.to_datetime(train[\"BAŞLAMA_TARİHİ_VE_ZAMANI\"],dayfirst=True)\n",
    "train[\"SONA_ERME_TARİHİ_VE_ZAMANI\"] = pd.to_datetime(train[\"SONA_ERME_TARİHİ_VE_ZAMANI\"],dayfirst=True)"
   ]
  },
  {
   "cell_type": "code",
   "execution_count": 6,
   "metadata": {},
   "outputs": [
    {
     "name": "stderr",
     "output_type": "stream",
     "text": [
      "C:\\Users\\talha\\AppData\\Local\\Temp\\ipykernel_13604\\747259581.py:5: FutureWarning: Series.dt.weekofyear and Series.dt.week have been deprecated. Please use Series.dt.isocalendar().week instead.\n",
      "  train[\"baslama_week\"] = train[\"BAŞLAMA_TARİHİ_VE_ZAMANI\"].dt.week\n",
      "C:\\Users\\talha\\AppData\\Local\\Temp\\ipykernel_13604\\747259581.py:13: FutureWarning: Series.dt.weekofyear and Series.dt.week have been deprecated. Please use Series.dt.isocalendar().week instead.\n",
      "  train[\"bitis_week\"] = train[\"SONA_ERME_TARİHİ_VE_ZAMANI\"].dt.week\n"
     ]
    }
   ],
   "source": [
    "train[\"baslama_hour\"] = train[\"BAŞLAMA_TARİHİ_VE_ZAMANI\"].dt.hour\n",
    "train[\"baslama_day\"] = train[\"BAŞLAMA_TARİHİ_VE_ZAMANI\"].dt.day\n",
    "train[\"baslama_dayofweek\"] = train[\"BAŞLAMA_TARİHİ_VE_ZAMANI\"].dt.dayofweek\n",
    "train[\"baslama_dayofyear\"] = train[\"BAŞLAMA_TARİHİ_VE_ZAMANI\"].dt.dayofyear\n",
    "train[\"baslama_week\"] = train[\"BAŞLAMA_TARİHİ_VE_ZAMANI\"].dt.week\n",
    "train[\"baslama_month\"] = train[\"BAŞLAMA_TARİHİ_VE_ZAMANI\"].dt.month\n",
    "\n",
    "\n",
    "train[\"bitis_hour\"] = train[\"SONA_ERME_TARİHİ_VE_ZAMANI\"].dt.hour\n",
    "train[\"bitis_day\"] = train[\"SONA_ERME_TARİHİ_VE_ZAMANI\"].dt.day\n",
    "train[\"bitis_dayofweek\"] = train[\"SONA_ERME_TARİHİ_VE_ZAMANI\"].dt.dayofweek\n",
    "train[\"bitis_dayofyear\"] = train[\"SONA_ERME_TARİHİ_VE_ZAMANI\"].dt.dayofyear\n",
    "train[\"bitis_week\"] = train[\"SONA_ERME_TARİHİ_VE_ZAMANI\"].dt.week\n",
    "train[\"bitis_month\"] = train[\"SONA_ERME_TARİHİ_VE_ZAMANI\"].dt.month"
   ]
  },
  {
   "cell_type": "code",
   "execution_count": 7,
   "metadata": {},
   "outputs": [],
   "source": [
    "train.drop(\"ŞEBEKE_UNSURU_KODU\",axis=1,inplace=True)\n",
    "train.drop(\"BİLDİRİME_GÖRE\",axis=1,inplace=True)\n",
    "train.drop([\"BAŞLAMA_TARİHİ_VE_ZAMANI\",\"SONA_ERME_TARİHİ_VE_ZAMANI\"],axis=1,inplace=True)\n",
    "train.drop(\"OutageID\",axis=1,inplace=True)\n",
    "train.drop(\"KESİNTİ_NO\",axis=1, inplace=True)\n",
    "train.drop(\"İLÇE\", axis=1, inplace=True)\n",
    "train.drop(\"KADEME\",axis=1,inplace=True)"
   ]
  },
  {
   "cell_type": "code",
   "execution_count": 14,
   "metadata": {},
   "outputs": [
    {
     "name": "stdout",
     "output_type": "stream",
     "text": [
      "KESİNTİ_NEDENİNE_İLİŞKİN_AÇIKLAMA_AG Atlama Kopuğu\n",
      "KESİNTİ_NEDENİNE_İLİŞKİN_AÇIKLAMA_AG Box / Sdk Abone Çıkış Faz Sigorta Atığı\n",
      "KESİNTİ_NEDENİNE_İLİŞKİN_AÇIKLAMA_AG Box / Sdk Abone Çıkış Sigorta Atığı\n",
      "KESİNTİ_NEDENİNE_İLİŞKİN_AÇIKLAMA_AG Box / Sdk Giriş Faz Sigorta Atığı\n",
      "KESİNTİ_NEDENİNE_İLİŞKİN_AÇIKLAMA_AG Box / Sdk Giriş Sigorta Atığı\n",
      "KESİNTİ_NEDENİNE_İLİŞKİN_AÇIKLAMA_AG Box Arızası\n",
      "KESİNTİ_NEDENİNE_İLİŞKİN_AÇIKLAMA_AG Branşman Yeraltı Kablo Arızası\n",
      "KESİNTİ_NEDENİNE_İLİŞKİN_AÇIKLAMA_AG Direk Değişimi\n",
      "KESİNTİ_NEDENİNE_İLİŞKİN_AÇIKLAMA_AG Direk Kırılması\n",
      "KESİNTİ_NEDENİNE_İLİŞKİN_AÇIKLAMA_AG Direkten Kesme Açma\n",
      "KESİNTİ_NEDENİNE_İLİŞKİN_AÇIKLAMA_AG Hatta Ağaç Kesimi\n",
      "KESİNTİ_NEDENİNE_İLİŞKİN_AÇIKLAMA_AG Hatta Yabancı Cisim\n",
      "KESİNTİ_NEDENİNE_İLİŞKİN_AÇIKLAMA_AG Havai Branşman Arızası\n",
      "KESİNTİ_NEDENİNE_İLİŞKİN_AÇIKLAMA_AG Kablo Başlığı Arızası\n",
      "KESİNTİ_NEDENİNE_İLİŞKİN_AÇIKLAMA_AG Kademe Ayarı\n",
      "KESİNTİ_NEDENİNE_İLİŞKİN_AÇIKLAMA_AG Klemens Arızası\n",
      "KESİNTİ_NEDENİNE_İLİŞKİN_AÇIKLAMA_AG Nötr İletken Kopması\n",
      "KESİNTİ_NEDENİNE_İLİŞKİN_AÇIKLAMA_AG Pano Arızası\n",
      "KESİNTİ_NEDENİNE_İLİŞKİN_AÇIKLAMA_AG Pano Faz Sigorta Atığı\n",
      "KESİNTİ_NEDENİNE_İLİŞKİN_AÇIKLAMA_AG Pano Kol Sigorta Atığı\n",
      "KESİNTİ_NEDENİNE_İLİŞKİN_AÇIKLAMA_AG Sehim Bozukluğu\n",
      "KESİNTİ_NEDENİNE_İLİŞKİN_AÇIKLAMA_AG Tel Kopuğu\n",
      "KESİNTİ_NEDENİNE_İLİŞKİN_AÇIKLAMA_AG Termik Açması\n",
      "KESİNTİ_NEDENİNE_İLİŞKİN_AÇIKLAMA_AG Travers Arızası\n",
      "KESİNTİ_NEDENİNE_İLİŞKİN_AÇIKLAMA_AG Voltaj Düşüklüğü\n",
      "KESİNTİ_NEDENİNE_İLİŞKİN_AÇIKLAMA_AG Yeraltı Kablo Arızası\n",
      "KESİNTİ_NEDENİNE_İLİŞKİN_AÇIKLAMA_AG Yük Ayırıcı Arızası\n",
      "KESİNTİ_NEDENİNE_İLİŞKİN_AÇIKLAMA_AG İzolatör Arızası\n",
      "KESİNTİ_NEDENİNE_İLİŞKİN_AÇIKLAMA_Ağaç Kesimi\n",
      "KESİNTİ_NEDENİNE_İLİŞKİN_AÇIKLAMA_Fiziki İrtibat\n",
      "KESİNTİ_NEDENİNE_İLİŞKİN_AÇIKLAMA_Hırsızlık\n",
      "KESİNTİ_NEDENİNE_İLİŞKİN_AÇIKLAMA_Manevra\n",
      "KESİNTİ_NEDENİNE_İLİŞKİN_AÇIKLAMA_Müteahhit Çalışması\n",
      "KESİNTİ_NEDENİNE_İLİŞKİN_AÇIKLAMA_NH Altlık Arızası\n",
      "KESİNTİ_NEDENİNE_İLİŞKİN_AÇIKLAMA_OG Atlama Arızası\n",
      "KESİNTİ_NEDENİNE_İLİŞKİN_AÇIKLAMA_OG Atlama(Jumper) Arızası\n",
      "KESİNTİ_NEDENİNE_İLİŞKİN_AÇIKLAMA_OG Ayırıcı Arızası\n",
      "KESİNTİ_NEDENİNE_İLİŞKİN_AÇIKLAMA_OG Direk Yıkılması\n",
      "KESİNTİ_NEDENİNE_İLİŞKİN_AÇIKLAMA_OG Fider Açması\n",
      "KESİNTİ_NEDENİNE_İLİŞKİN_AÇIKLAMA_OG Hatta Ağaç Kesimi\n",
      "KESİNTİ_NEDENİNE_İLİŞKİN_AÇIKLAMA_OG Hatta Yabancı Cisim\n",
      "KESİNTİ_NEDENİNE_İLİŞKİN_AÇIKLAMA_OG Kablo Başlığı Arızası\n",
      "KESİNTİ_NEDENİNE_İLİŞKİN_AÇIKLAMA_OG Kademe Ayarı\n",
      "KESİNTİ_NEDENİNE_İLİŞKİN_AÇIKLAMA_OG Kesici Arızası\n",
      "KESİNTİ_NEDENİNE_İLİŞKİN_AÇIKLAMA_OG Klemens Arızası\n",
      "KESİNTİ_NEDENİNE_İLİŞKİN_AÇIKLAMA_OG Parafudr Patlaması\n",
      "KESİNTİ_NEDENİNE_İLİŞKİN_AÇIKLAMA_OG Sigorta Atması\n",
      "KESİNTİ_NEDENİNE_İLİŞKİN_AÇIKLAMA_OG Trafo Arızası\n",
      "KESİNTİ_NEDENİNE_İLİŞKİN_AÇIKLAMA_OG Trafo Kademe Ayarı\n",
      "KESİNTİ_NEDENİNE_İLİŞKİN_AÇIKLAMA_OG Travers Arızası\n",
      "KESİNTİ_NEDENİNE_İLİŞKİN_AÇIKLAMA_OG Yeraltı Kablo Arızası\n",
      "KESİNTİ_NEDENİNE_İLİŞKİN_AÇIKLAMA_OG İletken Kopması\n",
      "KESİNTİ_NEDENİNE_İLİŞKİN_AÇIKLAMA_OG İzolatör Arızası\n",
      "KESİNTİ_NEDENİNE_İLİŞKİN_AÇIKLAMA_Plansız Kesinti / Müdahale\n",
      "KESİNTİ_NEDENİNE_İLİŞKİN_AÇIKLAMA_TEİAŞ Trafo Arızası\n",
      "KESİNTİ_NEDENİNE_İLİŞKİN_AÇIKLAMA_Trafo Bakım Çalışması\n",
      "KESİNTİ_NEDENİNE_İLİŞKİN_AÇIKLAMA_Yabani Hayvan Teması\n",
      "KESİNTİ_NEDENİNE_İLİŞKİN_AÇIKLAMA_Yangın\n",
      "KESİNTİ_NEDENİNE_İLİŞKİN_AÇIKLAMA_Yük Aktarımı\n",
      "KESİNTİ_NEDENİNE_İLİŞKİN_AÇIKLAMA_Üçüncü Şahısların Vermiş Olduğu Hasarlar\n",
      "KESİNTİ_NEDENİNE_İLİŞKİN_AÇIKLAMA_Şebeke Bakım Çalışması\n"
     ]
    }
   ],
   "source": [
    "for i in train.columns:\n",
    "    if \"KESİNTİ_NEDENİNE\" in i:\n",
    "        print(i)"
   ]
  },
  {
   "cell_type": "code",
   "execution_count": 8,
   "metadata": {},
   "outputs": [],
   "source": [
    "train = pd.get_dummies(train,drop_first=True)"
   ]
  },
  {
   "cell_type": "code",
   "execution_count": 17,
   "metadata": {},
   "outputs": [],
   "source": [
    "#train[\"NEW_KESİNTİ_NEDENİNE_1\"] = 0\n",
    "#train[\"NEW_KESİNTİ_NEDENİNE_2\"] = 0"
   ]
  },
  {
   "cell_type": "code",
   "execution_count": 11,
   "metadata": {},
   "outputs": [],
   "source": [
    "train.drop(\"SEBEBE_GÖRE_0\", axis=1, inplace=True)"
   ]
  },
  {
   "cell_type": "code",
   "execution_count": 18,
   "metadata": {},
   "outputs": [],
   "source": [
    "model = joblib.load(\"kesinti_lgbm_model.pkl\")\n",
    "preds = model.predict(train)"
   ]
  },
  {
   "cell_type": "code",
   "execution_count": 19,
   "metadata": {},
   "outputs": [],
   "source": [
    "preds = pd.Series(preds)\n",
    "preds = preds.apply(lambda x  : 0  if x < 0 else x)"
   ]
  },
  {
   "cell_type": "code",
   "execution_count": 20,
   "metadata": {},
   "outputs": [],
   "source": [
    "sub[\"cagri_count\"] = preds\n",
    "sub[\"cagri_count\"] = round(sub[\"cagri_count\"])"
   ]
  },
  {
   "cell_type": "code",
   "execution_count": 21,
   "metadata": {},
   "outputs": [],
   "source": [
    "sub.to_csv(\"submission.csv\",index=False)"
   ]
  },
  {
   "cell_type": "code",
   "execution_count": 22,
   "metadata": {},
   "outputs": [],
   "source": [
    "import matplotlib.pyplot as plt"
   ]
  },
  {
   "cell_type": "code",
   "execution_count": 83,
   "metadata": {},
   "outputs": [
    {
     "data": {
      "text/plain": [
       "<AxesSubplot:>"
      ]
     },
     "execution_count": 83,
     "metadata": {},
     "output_type": "execute_result"
    },
    {
     "data": {
      "image/png": "[encoded data removed]",
      "text/plain": [
       "<Figure size 432x288 with 1 Axes>"
      ]
     },
     "metadata": {
      "needs_background": "light"
     },
     "output_type": "display_data"
    }
   ],
   "source": [
    "sub[\"cagri_count\"].plot()"
   ]
  },
  {
   "cell_type": "code",
   "execution_count": 23,
   "metadata": {},
   "outputs": [
    {
     "data": {
      "text/plain": [
       "<AxesSubplot:>"
      ]
     },
     "execution_count": 23,
     "metadata": {},
     "output_type": "execute_result"
    },
    {
     "data": {
      "image/png": "[encoded data removed]",
      "text/plain": [
       "<Figure size 432x288 with 1 Axes>"
      ]
     },
     "metadata": {
      "needs_background": "light"
     },
     "output_type": "display_data"
    }
   ],
   "source": [
    "sub[\"cagri_count\"].plot()"
   ]
  },
  {
   "cell_type": "code",
   "execution_count": 84,
   "metadata": {},
   "outputs": [
    {
     "data": {
      "text/plain": [
       "<AxesSubplot:>"
      ]
     },
     "execution_count": 84,
     "metadata": {},
     "output_type": "execute_result"
    },
    {
     "data": {
      "image/png": "[encoded data removed]",
      "text/plain": [
       "<Figure size 432x288 with 1 Axes>"
      ]
     },
     "metadata": {
      "needs_background": "light"
     },
     "output_type": "display_data"
    }
   ],
   "source": [
    "sub[\"cagri_count\"].plot()"
   ]
  },
  {
   "cell_type": "code",
   "execution_count": 85,
   "metadata": {},
   "outputs": [
    {
     "data": {
      "text/plain": [
       "<AxesSubplot:>"
      ]
     },
     "execution_count": 85,
     "metadata": {},
     "output_type": "execute_result"
    },
    {
     "data": {
      "image/png": "[encoded data removed]",
      "text/plain": [
       "<Figure size 432x288 with 1 Axes>"
      ]
     },
     "metadata": {
      "needs_background": "light"
     },
     "output_type": "display_data"
    }
   ],
   "source": [
    "sub[\"cagri_count\"].plot()"
   ]
  }
 ],
 "metadata": {
  "kernelspec": {
   "display_name": "Python 3.9.12 ('base')",
   "language": "python",
   "name": "python3"
  },
  "language_info": {
   "codemirror_mode": {
    "name": "ipython",
    "version": 3
   },
   "file_extension": ".py",
   "mimetype": "text/x-python",
   "name": "python",
   "nbconvert_exporter": "python",
   "pygments_lexer": "ipython3",
   "version": "3.9.12"
  },
  "orig_nbformat": 4,
  "vscode": {
   "interpreter": {
    "hash": "2a5bab918500c3a27c83c494b562b57d38406af52f32585b0235d82cba8b1288"
   }
  }
 },
 "nbformat": 4,
 "nbformat_minor": 2
}
